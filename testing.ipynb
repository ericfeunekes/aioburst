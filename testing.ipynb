{
 "cells": [
  {
   "cell_type": "code",
   "execution_count": 2,
   "metadata": {},
   "outputs": [],
   "source": [
    "'''The async module provides an asynchronous limiter to be used with `asyncion`'''\n",
    "import asyncio\n",
    "from contextlib import asynccontextmanager\n",
    "\n",
    "@asynccontextmanager\n",
    "async def limiter(semaphore: asyncio.Semaphore, period: int):\n",
    "    '''Limits the number of calls that can be made within a certain period.\n",
    "    '''\n",
    "    async with semaphore:\n",
    "        try:\n",
    "            yield\n",
    "        finally:\n",
    "            await asyncio.sleep(period)"
   ]
  },
  {
   "cell_type": "code",
   "execution_count": 8,
   "metadata": {},
   "outputs": [
    {
     "data": {
      "text/plain": [
       "[datetime.datetime(2022, 10, 13, 23, 45, 15, 285797),\n",
       " datetime.datetime(2022, 10, 13, 23, 45, 15, 285829),\n",
       " datetime.datetime(2022, 10, 13, 23, 45, 15, 285844),\n",
       " datetime.datetime(2022, 10, 13, 23, 45, 15, 285855),\n",
       " datetime.datetime(2022, 10, 13, 23, 45, 17, 288356),\n",
       " datetime.datetime(2022, 10, 13, 23, 45, 17, 288407),\n",
       " datetime.datetime(2022, 10, 13, 23, 45, 17, 288425),\n",
       " datetime.datetime(2022, 10, 13, 23, 45, 17, 288439)]"
      ]
     },
     "execution_count": 8,
     "metadata": {},
     "output_type": "execute_result"
    }
   ],
   "source": [
    "from asyncio import Semaphore\n",
    "from datetime import datetime\n",
    "\n",
    "\n",
    "async def prt(limiter):\n",
    "    async with limiter:\n",
    "        return datetime.now()\n",
    "\n",
    "sem = Semaphore(4)\n",
    "\n",
    "tasks = []\n",
    "for i in range(8):\n",
    "    tasks.append(asyncio.create_task(prt(limiter(sem, 2))))\n",
    "\n",
    "await asyncio.gather(*tasks)"
   ]
  },
  {
   "cell_type": "code",
   "execution_count": null,
   "metadata": {},
   "outputs": [],
   "source": []
  }
 ],
 "metadata": {
  "kernelspec": {
   "display_name": "Python 3.10.7 ('aioburst-wUhUbdVx-py3.10')",
   "language": "python",
   "name": "python3"
  },
  "language_info": {
   "codemirror_mode": {
    "name": "ipython",
    "version": 3
   },
   "file_extension": ".py",
   "mimetype": "text/x-python",
   "name": "python",
   "nbconvert_exporter": "python",
   "pygments_lexer": "ipython3",
   "version": "3.10.7"
  },
  "orig_nbformat": 4,
  "vscode": {
   "interpreter": {
    "hash": "faf50be70544fe19c20b6f43ee93e6465747b207ceccc18e335e77e33ea6ca12"
   }
  }
 },
 "nbformat": 4,
 "nbformat_minor": 2
}
